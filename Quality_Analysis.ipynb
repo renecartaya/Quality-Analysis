{
 "cells": [
  {
   "cell_type": "code",
   "execution_count": 1,
   "id": "af3e69e8-0f3a-49c5-a859-3c28db9289bd",
   "metadata": {},
   "outputs": [],
   "source": [
    "#Importing the libraries\n",
    "\n",
    "import numpy as np\n",
    "import pandas as pd\n",
    "import matplotlib.pyplot as plt \n",
    "import seaborn as sns"
   ]
  },
  {
   "cell_type": "code",
   "execution_count": null,
   "id": "5cf17f7e-ca7b-4fe1-ad3c-57a3b3e13b5d",
   "metadata": {},
   "outputs": [],
   "source": [
    "data = pd.read_csv(\"../input/wineQualityReds.csv\")\n",
    "data.head()"
   ]
  },
  {
   "cell_type": "code",
   "execution_count": null,
   "id": "6b362e7c-e266-4877-9527-a7f0eacb2714",
   "metadata": {},
   "outputs": [],
   "source": [
    "data.info()"
   ]
  },
  {
   "cell_type": "code",
   "execution_count": null,
   "id": "4fdd2590-5173-4dce-878c-7b937b6c1e54",
   "metadata": {},
   "outputs": [],
   "source": [
    "\"\"\"Dropping the first column containing the index values\n",
    "which is of no use for us\"\"\"\n",
    "data = data.iloc[:,1:]\n",
    "print(data.head())"
   ]
  },
  {
   "cell_type": "code",
   "execution_count": null,
   "id": "c24ccec2-2d7d-45cd-8370-05465bbc7bd3",
   "metadata": {},
   "outputs": [],
   "source": [
    "data.describe()"
   ]
  },
  {
   "cell_type": "code",
   "execution_count": null,
   "id": "b370d5c5-8231-4a32-be81-c130c644f95f",
   "metadata": {},
   "outputs": [],
   "source": [
    "data.corr()['quality']"
   ]
  },
  {
   "cell_type": "code",
   "execution_count": null,
   "id": "b1174892-58a7-4c08-bbcc-b6a2bad660df",
   "metadata": {},
   "outputs": [],
   "source": [
    "plt.figure(figsize=(10,10))\n",
    "sns.heatmap(data.corr(),annot=True,linewidth=0.5,center=0,cmap='coolwarm')\n",
    "plt.show()"
   ]
  },
  {
   "cell_type": "code",
   "execution_count": null,
   "id": "9218b270-2986-4532-ab80-20f96241f218",
   "metadata": {},
   "outputs": [],
   "source": [
    "plt.hist(data.quality,bins=6,alpha=0.5,histtype='bar',ec='black')\n",
    "plt.title('Distribution of the Quality')\n",
    "plt.xlabel('Quality')\n",
    "plt.ylabel('Count')\n",
    "plt.show()"
   ]
  },
  {
   "cell_type": "code",
   "execution_count": null,
   "id": "29482fdb-4c77-439c-871b-eb3ae79a1004",
   "metadata": {},
   "outputs": [],
   "source": [
    "plt.figure(figsize=(8,5))\n",
    "sns.barplot(data['quality'],data['pH'],palette=\"GnBu_d\")\n",
    "plt.show()"
   ]
  },
  {
   "cell_type": "code",
   "execution_count": null,
   "id": "df42666a-311a-4e9d-93b2-4475fc83c4fb",
   "metadata": {},
   "outputs": [],
   "source": [
    "sns.boxplot(x='quality',y='pH',data=data,palette='GnBu_d')\n",
    "plt.title(\"Boxplot of Quality and pH\")\n",
    "plt.show()"
   ]
  },
  {
   "cell_type": "code",
   "execution_count": null,
   "id": "26071227-b22b-4922-8361-6298a93be9e1",
   "metadata": {},
   "outputs": [],
   "source": [
    "ax = sns.boxplot(x='quality',y='alcohol',data=data,palette='GnBu_d')\n",
    "plt.title(\"Boxplot of Quality and Alcohol\")\n",
    "plt.show()"
   ]
  },
  {
   "cell_type": "code",
   "execution_count": null,
   "id": "5f8ddb8d-d916-4153-b523-49f4db5e556f",
   "metadata": {},
   "outputs": [],
   "source": [
    "sns.boxplot(x=\"quality\",y=\"residual.sugar\",data=data,palette=\"GnBu_d\")\n",
    "plt.title(\"Boxplot of Quality and residual sugar\")\n",
    "plt.show()"
   ]
  },
  {
   "cell_type": "code",
   "execution_count": null,
   "id": "49982115-b5fb-4466-9d8e-47e268fbb87b",
   "metadata": {},
   "outputs": [],
   "source": [
    "sns.boxplot(x=\"quality\",y=\"density\",data=data,palette=\"GnBu_d\")\n",
    "plt.title(\"Boxplot of Quality and Density\")\n",
    "plt.show()"
   ]
  },
  {
   "cell_type": "code",
   "execution_count": null,
   "id": "c8da4453-17e4-40bb-beb0-48bab01f3dd2",
   "metadata": {},
   "outputs": [],
   "source": [
    "sns.boxplot(x=\"quality\",y=\"sulphates\",data=data,palette=\"GnBu_d\")\n",
    "plt.title(\"Boxplot of Quality and Sulphates\")\n",
    "plt.show()"
   ]
  },
  {
   "cell_type": "code",
   "execution_count": null,
   "id": "60b3b074-c1da-4d35-bd1d-89569c65274e",
   "metadata": {},
   "outputs": [],
   "source": [
    "sns.boxplot(x=\"quality\",y=\"chlorides\",data=data,palette=\"GnBu_d\")\n",
    "plt.title(\"Boxplot of Quality and Chlorides\")\n",
    "plt.show()"
   ]
  },
  {
   "cell_type": "code",
   "execution_count": null,
   "id": "e8b18c47-4fcf-4009-ab1d-6e127a7988db",
   "metadata": {},
   "outputs": [],
   "source": [
    "sns.boxplot(x=\"quality\",y=\"citric.acid\",data=data,palette=\"coolwarm\")\n",
    "plt.title(\"Boxplot of Quality and Citric Acid\")\n",
    "plt.show()"
   ]
  },
  {
   "cell_type": "code",
   "execution_count": null,
   "id": "0527d744-8289-4e0e-8fbe-56da29704a1b",
   "metadata": {},
   "outputs": [],
   "source": [
    "sns.boxplot(x=\"quality\",y=\"volatile.acidity\",data=data,palette=\"coolwarm\")\n",
    "plt.title(\"Boxplot of Quality and Volatile Acidity\")\n",
    "plt.show()"
   ]
  },
  {
   "cell_type": "code",
   "execution_count": null,
   "id": "9694c854-13e4-497a-9a1b-84b2b80d7e32",
   "metadata": {},
   "outputs": [],
   "source": [
    "sns.boxplot(x=\"quality\",y=\"fixed.acidity\",data=data,palette=\"coolwarm\")\n",
    "plt.title(\"Boxplot of Quality and Fixed Acidity\")\n",
    "plt.show()"
   ]
  },
  {
   "cell_type": "code",
   "execution_count": null,
   "id": "ea09f663-f186-4524-a09e-c2218da8fd09",
   "metadata": {},
   "outputs": [],
   "source": [
    "# MODELING\n",
    "\n",
    "\n",
    "from sklearn.model_selection import train_test_split\n",
    "from sklearn.preprocessing import StandardScaler\n",
    "from sklearn.linear_model import LogisticRegression\n",
    "from sklearn.metrics import confusion_matrix\n",
    "\n",
    "X = data.iloc[:,:11].values\n",
    "Y = data.iloc[:,-1].values\n",
    "\n",
    "#Splitting the dataset into training and test set\n",
    "X_train,X_test,Y_train,Y_test = train_test_split(X,Y,test_size=0.25,random_state=0)\n",
    "\n",
    "#Feature scaling\n",
    "sc = StandardScaler()\n",
    "X_train = sc.fit_transform(X_train)\n",
    "X_test = sc.fit_transform(X_test)\n",
    "\n",
    "#Training using Logistic Regression\n",
    "cl = LogisticRegression()\n",
    "cl.fit(X_train,Y_train)\n",
    "\n",
    "#Making confusion matrix\n",
    "cm = confusion_matrix(Y_test,cl.predict(X_test))\n",
    "print(cm)"
   ]
  },
  {
   "cell_type": "code",
   "execution_count": null,
   "id": "6501e225-1505-4c03-af8b-2e32dfe18a9f",
   "metadata": {},
   "outputs": [],
   "source": [
    "#Applying SVM\n",
    "from sklearn.svm import SVC\n",
    "cl = SVC(kernel=\"rbf\")\n",
    "cl.fit(X_train,Y_train)\n",
    "\n",
    "cm = confusion_matrix(Y_test,cl.predict(X_test))\n",
    "print(cm)"
   ]
  },
  {
   "cell_type": "code",
   "execution_count": null,
   "id": "fb98c13b-04f2-478b-9a0d-dc5efe67bf42",
   "metadata": {},
   "outputs": [],
   "source": [
    "# For more information: \n",
    "\n",
    "# Source 1: https://www.kaggle.com/scsaurabh/red-wine-quality-analysis-python\n",
    "# Source 2: https://sites.google.com/view/vinegarhill-datalabs/introduction-to-machine-learning/machine-learning-and-vinho-verde\n",
    "# Source 3: https://www.youtube.com/watch?v=lHwESP3-Efg"
   ]
  }
 ],
 "metadata": {
  "kernelspec": {
   "display_name": "Python 3 (ipykernel)",
   "language": "python",
   "name": "python3"
  },
  "language_info": {
   "codemirror_mode": {
    "name": "ipython",
    "version": 3
   },
   "file_extension": ".py",
   "mimetype": "text/x-python",
   "name": "python",
   "nbconvert_exporter": "python",
   "pygments_lexer": "ipython3",
   "version": "3.9.7"
  }
 },
 "nbformat": 4,
 "nbformat_minor": 5
}
